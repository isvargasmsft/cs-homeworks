{
  "cells": [
    {
      "cell_type": "markdown",
      "metadata": {
        "id": "t6YiUPTDAi8N"
      },
      "source": [
        "# Trabajo Práctico 4\n",
        "*   Arelis Picado\n",
        "*   Diego Solís\n",
        "*   Isaac Vargas"
      ]
    },
    {
      "cell_type": "markdown",
      "source": [
        "# 1. **(80 puntos)** Algoritmo de Maximización de la Esperanza con datos artificiales (modelo Gaussiano)\n",
        "\n",
        "\n",
        "A continuación, implemente el algoritmo de maximización de la esperanza (descrito en el material del curso), usando la definición y descripción de las siguientes funciones como base:"
      ],
      "metadata": {
        "id": "5-pP7reKFCNg"
      }
    },
    {
      "cell_type": "markdown",
      "source": [
        "##### 1.   **(15 puntos)** Implemente la función generate_data, la cual reciba la cantidad de observaciones unidimensionales total a generar N, y los parámetros correspondientes a $K=2$ funciones de densidad Gaussianas. Genere los datos siguiendo tales distribuciones, y retorne tal matriz de datos $X\\in\\mathbb{R}^{N\\times1}$.\n",
        "\n",
        "a) Grafique los datos usando un scatter plot junto con las gráficas de los histogramas de los datos y las funciones de densidad de probabilidad Gaussianas usando los parámetros para inicializar los datos, en la misma figura (gráfico). Escoja 3 conjuntos de parámetros para mostrar los 3 datasets resultantes."
      ],
      "metadata": {
        "id": "EjVu4ZWRFMCt"
      }
    },
    {
      "cell_type": "code",
      "source": [
        "import numpy as np\n",
        "\n",
        "def generate_data(N, mu1, sigma1, mu2, sigma2, pi1=0.5, pi2=0.5):\n",
        "    \"\"\"\n",
        "    Generates data following a mixture of two Gaussian distributions.\n",
        "\n",
        "    Parameters:\n",
        "    - N: Total number of observations to generate.\n",
        "    - mu1, sigma1: Mean and standard deviation for the first Gaussian.\n",
        "    - mu2, sigma2: Mean and standard deviation for the second Gaussian.\n",
        "    - pi1, pi2: Weights (membership probabilities) for each Gaussian distribution.\n",
        "\n",
        "    Returns:\n",
        "    - X: Generated data matrix of size (N, 1).\n",
        "    \"\"\"\n",
        "    # Generate labels for each sample according to probabilities pi1 and pi2\n",
        "    labels = np.random.choice([0, 1], size=N, p=[pi1, pi2])\n",
        "\n",
        "    # Generate data for each label according to the corresponding Gaussian\n",
        "    X = np.zeros(N)\n",
        "    X[labels == 0] = np.random.normal(mu1, sigma1, size=(labels == 0).sum())\n",
        "    X[labels == 1] = np.random.normal(mu2, sigma2, size=(labels == 1).sum())\n",
        "\n",
        "    return X.reshape(-1, 1)  # Return as a column vector"
      ],
      "metadata": {
        "id": "S8X6w4XCGx2H"
      },
      "execution_count": 1,
      "outputs": []
    },
    {
      "cell_type": "code",
      "source": [
        "# Using the function\n",
        "X = generate_data(100, mu1=0, sigma1=1, mu2=5, sigma2=1.5)"
      ],
      "metadata": {
        "id": "Ow5LaRaFOrwj"
      },
      "execution_count": 6,
      "outputs": []
    },
    {
      "cell_type": "markdown",
      "source": [
        "##### 2.   **(5 puntos)** Implemente la función init_random_parameters la cual genere una matriz de $P\\in\\mathbb{R}^{K\\times2}$ dimensiones, con los parámetros de las funciones de densidad Gaussiana generados completamente al azar.\n",
        "\n",
        "a) Muestre un pantallazo donde verifique su funcionamiento correcto con los comentarios asociados."
      ],
      "metadata": {
        "id": "1XTtji2iGsl6"
      }
    },
    {
      "cell_type": "code",
      "source": [],
      "metadata": {
        "id": "uQ4gfBJbG1NP"
      },
      "execution_count": null,
      "outputs": []
    },
    {
      "cell_type": "markdown",
      "source": [
        "##### 3.   **(20 puntos)** Implemente la función calculate_likelihood_gaussian_observation(x_n, mu_k, sigma_k) la cual calcule la verosimilitud de una observación específica $x_{n}$, para una función de densidad Gaussiana con parámetros $\\mu_{k}$ y $\\sigma_{k}$. Realice la corrección pertinente al cálculo de la función de verosimilitud para evitar el problema de under flow.\n",
        "\n",
        "a) Diseñe y ejecute una prueba unitaria donde verifique su funcionamiento correcto con los comentarios asociados."
      ],
      "metadata": {
        "id": "UjeXInotGsxR"
      }
    },
    {
      "cell_type": "code",
      "source": [],
      "metadata": {
        "id": "TVEX3xJrHHV4"
      },
      "execution_count": null,
      "outputs": []
    },
    {
      "cell_type": "markdown",
      "source": [
        "##### 4.   **(10 puntos)** Implemente la función calculate_membership_dataset(X_dataset, Parameters_matrix), la cual, usando la matriz de parámetros P y la función anteriormente implementada $calculate_likelihood_gaussian_observation$, defina por cada observación $x_{n}\\in X$ la pertenencia o membresía a cada $cluster k=1$,$\\ldots K$, en una matriz binaria $M\\in\\mathbb{R}^{N\\times K}$. Retorne tal matriz de membresía M.\n",
        "\n",
        "a) Diseñe y ejecute una prueba unitaria donde verifique su funcionamiento correcto con los comentarios asociados."
      ],
      "metadata": {
        "id": "kPYL8LWrGs7b"
      }
    },
    {
      "cell_type": "code",
      "source": [],
      "metadata": {
        "id": "7_KbuQxrHgt1"
      },
      "execution_count": null,
      "outputs": []
    },
    {
      "cell_type": "markdown",
      "source": [
        "##### 5.   **(10 puntos)** Implemente la función recalculate_parameters(X_dataset, Membership_data), la cual recalcule los parámetros de las funciones de densidad Gaussianas representadas en la matriz P, de acuerdo a lo representado en la matriz de membresía M.\n",
        "\n",
        "a) Use las funciones mean y std de PyTorch para ello. Intente prescindir al máximo de estructuras de repetición tipo for."
      ],
      "metadata": {
        "id": "8YS8nvu9GtFu"
      }
    },
    {
      "cell_type": "code",
      "source": [],
      "metadata": {
        "id": "r3fp5bS5Hmo5"
      },
      "execution_count": null,
      "outputs": []
    },
    {
      "cell_type": "markdown",
      "source": [
        "##### 6.   **(10 puntos)** Ejecute 5 corridas diferentes del algoritmo, donde por cada una documente los parámetros a los que se arribó, junto con los parámetros iniciales (descríbalo en una tabla). Hágalo para los 3 conjuntos de datos generados anteriormente.\n",
        "\n",
        "a) Grafique las funciones de densidad de probabilidad a las que convergió el algoritmo. Puede graficar también las funciones de densidad obtenidas en 2 o 3 pasos intermedios. Presente una tabla de gráficas donde en cada entrada se identifique el número de iteraciones y los parámetros iniciales.\n",
        "\n",
        "b) Comente los resultados."
      ],
      "metadata": {
        "id": "ElaQJ91YGtPn"
      }
    },
    {
      "cell_type": "code",
      "source": [],
      "metadata": {
        "id": "z4chBxlNHqtn"
      },
      "execution_count": null,
      "outputs": []
    },
    {
      "cell_type": "markdown",
      "source": [
        "##### 7.   **(10 puntos)** Proponga una mejor heurística para inicializar los parámetros del modelo aleatoriamente.\n",
        "    \n",
        "a) Compruebe la mejora obtenida con el método propuesto, corriendo las pruebas del punto anterior."
      ],
      "metadata": {
        "id": "dC2lGoRAGtZH"
      }
    },
    {
      "cell_type": "code",
      "source": [],
      "metadata": {
        "id": "_-IqklibHu9U"
      },
      "execution_count": null,
      "outputs": []
    },
    {
      "cell_type": "markdown",
      "source": [
        "# 2. (40 puntos) Algoritmo de Maximización de la Esperanza con datos artificiales modelo Gamma)\n",
        "\n",
        "En esta sección, modificará el algoritmo de maximización de la esperanza anteriormente implementado para un modelo Gaussiano, para el modelo Gamma."
      ],
      "metadata": {
        "id": "5d__j1GDJ4YM"
      }
    },
    {
      "cell_type": "markdown",
      "source": [
        "##### 1.   **(20 puntos)** Enliste e implemente todas las modificaciones necesarias tanto conceptualmente como en código para hacer que el algoritmo de maximización de la esperanza utilice un modelo Gamma."
      ],
      "metadata": {
        "id": "rCPaLWHtKygI"
      }
    },
    {
      "cell_type": "code",
      "source": [],
      "metadata": {
        "id": "Kz5xg30LK17e"
      },
      "execution_count": 6,
      "outputs": []
    },
    {
      "cell_type": "markdown",
      "source": [
        " ##### 2.   **(5 puntos)** Implemente la función $generate_data$ la cual reciba la cantidad de observaciones unidimensionales total a generar N, y los parámetros correspondientes a K=2 funciones de densidad Gamma. Genere los datos siguiendo tales distribuciones, y retorne tal matriz de datos $X\\in\\mathbb{R}^{N\\times1}$.\n",
        "\n",
        "a) Grafique los datos usando un scatter plot junto con las gráficas de los histogramas de los datos y las funciones de densidad de probabilidad Gamma usando los parámetros para inicializar los datos, en la misma figura (gráfico). Los parámetros serán escogidos por usted, muestre al menos 3 generaciones del dataset y comente el efecto de los parámetros."
      ],
      "metadata": {
        "id": "Rxwl1nH5Kyny"
      }
    },
    {
      "cell_type": "code",
      "source": [],
      "metadata": {
        "id": "5rSur-OyK1DO"
      },
      "execution_count": 6,
      "outputs": []
    },
    {
      "cell_type": "markdown",
      "source": [
        "##### 3.   **(10 puntos)** Ejecute 5 corridas diferentes del algoritmo, donde por cada una documente los parámetros a los que se arribó, junto con los parámetros iniciales (descríbalo en una tabla). Hágalo para los 3 conjuntos de datos generados anteriormente.\n",
        "\n",
        "a) Grafique las funciones de densidad de probabilidad a las que convergió el algoritmo. Puede graficar también las funciones de densidad obtenidas en 2 o 3 pasos intermedios. Presente una tabla de gráficas donde en cada entrada se identifique el número de iteraciones y los parámetros iniciales.\n",
        "\n",
        "Comente los resultados."
      ],
      "metadata": {
        "id": "9aA3uRtoKyx2"
      }
    },
    {
      "cell_type": "code",
      "source": [],
      "metadata": {
        "id": "RJrTuQFwK0ZR"
      },
      "execution_count": 6,
      "outputs": []
    },
    {
      "cell_type": "markdown",
      "source": [
        "  ##### 4.   **(5 puntos)** Explique cuál es el comportamiento esperado de utilizar la implementación del algoritmo de maximización de esperanza para una distribución Gamma, con un conjunto de datos que sigue una distribución Gaussiana y viceversa.\n",
        "    \n",
        "a) **(10 puntos)** Realice un diseño experimental donde verifique lo anterior"
      ],
      "metadata": {
        "id": "WLAuCl49Ky5o"
      }
    },
    {
      "cell_type": "code",
      "source": [],
      "metadata": {
        "id": "xRZbRDY5Kzc_"
      },
      "execution_count": 6,
      "outputs": []
    }
  ],
  "metadata": {
    "colab": {
      "provenance": []
    },
    "kernelspec": {
      "display_name": "Python 3",
      "language": "python",
      "name": "python3"
    },
    "language_info": {
      "codemirror_mode": {
        "name": "ipython",
        "version": 3
      },
      "file_extension": ".py",
      "mimetype": "text/x-python",
      "name": "python",
      "nbconvert_exporter": "python",
      "pygments_lexer": "ipython3",
      "version": "3.12.7"
    }
  },
  "nbformat": 4,
  "nbformat_minor": 0
}